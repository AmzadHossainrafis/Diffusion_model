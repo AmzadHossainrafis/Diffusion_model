{
 "cells": [
  {
   "cell_type": "code",
   "execution_count": 1,
   "metadata": {},
   "outputs": [
    {
     "name": "stdout",
     "output_type": "stream",
     "text": [
      "1\n"
     ]
    }
   ],
   "source": [
    "DNA_sequence_1 = 'ATGCGCGATT'\n",
    "DNA_sequence_2 = 'ATGCGCCAAT'\n",
    "\n",
    "count = 1 \n",
    "\n",
    "def common_sen(DNA_sequence_1,DNA_sequence_2,k):\n",
    "    for i in range(len(DNA_sequence_1)-k): \n",
    "        sub1 = DNA_sequence_2[i :i+k]\n",
    "        for  j in range(len(DNA_sequence_2)-k):\n",
    "            sub2 = DNA_sequence_2[j :j+k]\n",
    "            if sub1 == sub2 :\n",
    "                count+1 \n",
    "\n",
    "    return count \n",
    "\n",
    "\n",
    "print(common_sen(DNA_sequence_1,DNA_sequence_2,3))\n"
   ]
  }
 ],
 "metadata": {
  "kernelspec": {
   "display_name": "Python 3",
   "language": "python",
   "name": "python3"
  },
  "language_info": {
   "codemirror_mode": {
    "name": "ipython",
    "version": 3
   },
   "file_extension": ".py",
   "mimetype": "text/x-python",
   "name": "python",
   "nbconvert_exporter": "python",
   "pygments_lexer": "ipython3",
   "version": "3.11.9"
  }
 },
 "nbformat": 4,
 "nbformat_minor": 2
}
