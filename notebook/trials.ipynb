{
 "cells": [
  {
   "cell_type": "code",
   "execution_count": 11,
   "metadata": {},
   "outputs": [
    {
     "name": "stdout",
     "output_type": "stream",
     "text": [
      "{'Train_config': {'train_name': 'diffusion unconditional', 'batch_size': 4, 'epochs': 500, 'lr': 0.0003, 'device': 'cuda', 'shaffle': True, 'intrable': 1, 'num_sample': 3, 'model_ckpt': '/home/amzad/Desktop/diffusion/artifacts/model_ckpt/', 'logs': '/home/amzad/Desktop/diffusion/logs/', 'figs': '/home/amzad/Desktop/diffusion/fig/', 'dataset': '/home/amzad/Desktop/diffusion/dataset/images/', 'ema_enable': True, 'ema': 0.999}, 'Noise_schedule': {'start': 0.0001, 'end': 0.02, 'steps': 1000, 'device': 'cuda'}, 'Dir': {'artifact_dir': '/home/amzad/Desktop/diffusion/artifacts'}, 'Transform_config': {'image_size': 64, 'resize': 80, 'crop': 64, 'mean': [0.5, 0.5, 0.5], 'std': [0.5, 0.5, 0.5], 'to_tensor': True}, 'model_config': {'cha_in': 3, 'cha_out': 3, 'time_dim': 256, 'device': 'cuda', 'selfattn': {'n_head': 4, 'batch_first': True}, 'dobule_conv': {'kernel_size': 3, 'stride': 1, 'padding': 1, 'bias': True}, 'down': {'kernel_size': 4, 'stride': 2, 'padding': 1, 'bias': False}}}\n"
     ]
    }
   ],
   "source": [
    "config_dir= '/home/amzad/Desktop/diffusion/config/config.yaml'\n",
    "from Diffusion.utils.utils import read_config\n",
    "\n",
    "\n",
    "\n",
    "config = read_config(config_dir)\n",
    "\n",
    "print(config)"
   ]
  },
  {
   "cell_type": "code",
   "execution_count": null,
   "metadata": {},
   "outputs": [],
   "source": [
    "#__file__ = '/home/amzad/Desktop/diffusion/config/config.yaml'"
   ]
  },
  {
   "cell_type": "code",
   "execution_count": null,
   "metadata": {},
   "outputs": [],
   "source": [
    "import os \n",
    "import pathlib \n",
    "from pathlib import Path \n"
   ]
  },
  {
   "cell_type": "code",
   "execution_count": 9,
   "metadata": {},
   "outputs": [
    {
     "name": "stdout",
     "output_type": "stream",
     "text": [
      "/home/amzad\n",
      "/home/amzad/Desktop/diffusion\n",
      "/home/amzad/Desktop/diffusion/config/config.yaml\n"
     ]
    }
   ],
   "source": [
    "print(Path.home())\n",
    "print(Path.cwd().parents[0])\n",
    "print(Path.cwd().parents[0] / 'config' / 'config.yaml')"
   ]
  },
  {
   "cell_type": "code",
   "execution_count": 12,
   "metadata": {},
   "outputs": [
    {
     "name": "stdout",
     "output_type": "stream",
     "text": [
      "/home/amzad/Desktop/diffusion/config/config.yaml\n"
     ]
    }
   ],
   "source": [
    "test_config = Path.cwd().parents[0] / 'config' / 'config.yaml'\n",
    "print(test_config)\n"
   ]
  },
  {
   "cell_type": "code",
   "execution_count": 13,
   "metadata": {},
   "outputs": [],
   "source": [
    "con = read_config(test_config) "
   ]
  },
  {
   "cell_type": "code",
   "execution_count": 14,
   "metadata": {},
   "outputs": [
    {
     "name": "stdout",
     "output_type": "stream",
     "text": [
      "{'Train_config': {'train_name': 'diffusion unconditional', 'batch_size': 4, 'epochs': 500, 'lr': 0.0003, 'device': 'cuda', 'shaffle': True, 'intrable': 1, 'num_sample': 3, 'model_ckpt': '/home/amzad/Desktop/diffusion/artifacts/model_ckpt/', 'logs': '/home/amzad/Desktop/diffusion/logs/', 'figs': '/home/amzad/Desktop/diffusion/fig/', 'dataset': '/home/amzad/Desktop/diffusion/dataset/images/', 'ema_enable': True, 'ema': 0.999}, 'Noise_schedule': {'start': 0.0001, 'end': 0.02, 'steps': 1000, 'device': 'cuda'}, 'Dir': {'artifact_dir': '/home/amzad/Desktop/diffusion/artifacts'}, 'Transform_config': {'image_size': 64, 'resize': 80, 'crop': 64, 'mean': [0.5, 0.5, 0.5], 'std': [0.5, 0.5, 0.5], 'to_tensor': True}, 'model_config': {'cha_in': 3, 'cha_out': 3, 'time_dim': 256, 'device': 'cuda', 'selfattn': {'n_head': 4, 'batch_first': True}, 'dobule_conv': {'kernel_size': 3, 'stride': 1, 'padding': 1, 'bias': True}, 'down': {'kernel_size': 4, 'stride': 2, 'padding': 1, 'bias': False}}}\n"
     ]
    }
   ],
   "source": [
    "print(con)"
   ]
  },
  {
   "cell_type": "code",
   "execution_count": null,
   "metadata": {},
   "outputs": [],
   "source": []
  }
 ],
 "metadata": {
  "kernelspec": {
   "display_name": "torch_env",
   "language": "python",
   "name": "python3"
  },
  "language_info": {
   "codemirror_mode": {
    "name": "ipython",
    "version": 3
   },
   "file_extension": ".py",
   "mimetype": "text/x-python",
   "name": "python",
   "nbconvert_exporter": "python",
   "pygments_lexer": "ipython3",
   "version": "3.9.19"
  }
 },
 "nbformat": 4,
 "nbformat_minor": 2
}
