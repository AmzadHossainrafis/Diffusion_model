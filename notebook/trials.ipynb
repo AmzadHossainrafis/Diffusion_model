{
 "cells": [
  {
   "cell_type": "code",
   "execution_count": null,
   "metadata": {},
   "outputs": [],
   "source": [
    "config_dir= '/home/amzad/Desktop/diffusion/config/config.yaml'\n",
    "from Diffusion.components.utils.utils import read_config\n",
    "\n",
    "\n",
    "\n",
    "config = read_config(config_dir)\n",
    "\n",
    "print(config)"
   ]
  },
  {
   "cell_type": "code",
   "execution_count": null,
   "metadata": {},
   "outputs": [],
   "source": []
  }
 ],
 "metadata": {
  "language_info": {
   "name": "python"
  }
 },
 "nbformat": 4,
 "nbformat_minor": 2
}
